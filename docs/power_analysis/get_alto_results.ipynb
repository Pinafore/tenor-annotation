{
 "cells": [
  {
   "cell_type": "code",
   "execution_count": 1,
   "id": "2daab0d9-5f4d-4a08-9db6-d5bed2d13dea",
   "metadata": {},
   "outputs": [
    {
     "name": "stdout",
     "output_type": "stream",
     "text": [
      "--2022-07-17 22:51:55--  https://raw.githubusercontent.com/Pinafore/publications/master/2016_acl_doclabel/data/user_exp/min_10_data.csv\n",
      "Resolving raw.githubusercontent.com (raw.githubusercontent.com)... 185.199.111.133, 185.199.108.133, 185.199.109.133, ...\n",
      "Connecting to raw.githubusercontent.com (raw.githubusercontent.com)|185.199.111.133|:443... connected.\n",
      "HTTP request sent, awaiting response... 200 OK\n",
      "Length: 1587 (1.5K) [text/plain]\n",
      "Saving to: ‘min_10_data.csv’\n",
      "\n",
      "min_10_data.csv     100%[===================>]   1.55K  --.-KB/s    in 0.003s  \n",
      "\n",
      "2022-07-17 22:51:55 (477 KB/s) - ‘min_10_data.csv’ saved [1587/1587]\n",
      "\n"
     ]
    }
   ],
   "source": [
    "!wget https://raw.githubusercontent.com/Pinafore/publications/master/2016_acl_doclabel/data/user_exp/min_10_data.csv"
   ]
  },
  {
   "cell_type": "code",
   "execution_count": 2,
   "id": "79198500-16c7-4547-bf51-10725c4d7ec3",
   "metadata": {},
   "outputs": [],
   "source": [
    "import pandas as pd\n",
    "import numpy as np"
   ]
  },
  {
   "cell_type": "code",
   "execution_count": 3,
   "id": "ec876e32-3190-48b2-a7e3-20bb56088142",
   "metadata": {},
   "outputs": [
    {
     "name": "stdout",
     "output_type": "stream",
     "text": [
      "<class 'pandas.core.frame.DataFrame'>\n",
      "RangeIndex: 40 entries, 0 to 39\n",
      "Data columns (total 8 columns):\n",
      " #   Column     Non-Null Count  Dtype  \n",
      "---  ------     --------------  -----  \n",
      " 0   subjects   40 non-null     int64  \n",
      " 1   fake_id    40 non-null     object \n",
      " 2   condition  40 non-null     object \n",
      " 3   TM         40 non-null     object \n",
      " 4   AL         40 non-null     object \n",
      " 5   purity     40 non-null     float64\n",
      " 6   ri         40 non-null     float64\n",
      " 7   nmi        40 non-null     float64\n",
      "dtypes: float64(3), int64(1), object(4)\n",
      "memory usage: 2.6+ KB\n",
      "None\n"
     ]
    }
   ],
   "source": [
    "alto_results = pd.read_csv('min_10_data.csv')\n",
    "print(alto_results.info())"
   ]
  },
  {
   "cell_type": "code",
   "execution_count": 4,
   "id": "d99ce923-25df-4cdd-b29c-f7f0ef69811e",
   "metadata": {},
   "outputs": [
    {
     "data": {
      "text/html": [
       "<div>\n",
       "<style scoped>\n",
       "    .dataframe tbody tr th:only-of-type {\n",
       "        vertical-align: middle;\n",
       "    }\n",
       "\n",
       "    .dataframe tbody tr th {\n",
       "        vertical-align: top;\n",
       "    }\n",
       "\n",
       "    .dataframe thead th {\n",
       "        text-align: right;\n",
       "    }\n",
       "</style>\n",
       "<table border=\"1\" class=\"dataframe\">\n",
       "  <thead>\n",
       "    <tr style=\"text-align: right;\">\n",
       "      <th></th>\n",
       "      <th>subjects</th>\n",
       "      <th>purity</th>\n",
       "      <th>ri</th>\n",
       "      <th>nmi</th>\n",
       "    </tr>\n",
       "    <tr>\n",
       "      <th>condition</th>\n",
       "      <th></th>\n",
       "      <th></th>\n",
       "      <th></th>\n",
       "      <th></th>\n",
       "    </tr>\n",
       "  </thead>\n",
       "  <tbody>\n",
       "    <tr>\n",
       "      <th>LA</th>\n",
       "      <td>15.5</td>\n",
       "      <td>0.35371</td>\n",
       "      <td>0.81718</td>\n",
       "      <td>0.27048</td>\n",
       "    </tr>\n",
       "    <tr>\n",
       "      <th>LR</th>\n",
       "      <td>5.5</td>\n",
       "      <td>0.30820</td>\n",
       "      <td>0.78506</td>\n",
       "      <td>0.19292</td>\n",
       "    </tr>\n",
       "    <tr>\n",
       "      <th>TA</th>\n",
       "      <td>35.5</td>\n",
       "      <td>0.30993</td>\n",
       "      <td>0.79897</td>\n",
       "      <td>0.18669</td>\n",
       "    </tr>\n",
       "    <tr>\n",
       "      <th>TR</th>\n",
       "      <td>25.5</td>\n",
       "      <td>0.32384</td>\n",
       "      <td>0.82212</td>\n",
       "      <td>0.20829</td>\n",
       "    </tr>\n",
       "  </tbody>\n",
       "</table>\n",
       "</div>"
      ],
      "text/plain": [
       "           subjects   purity       ri      nmi\n",
       "condition                                     \n",
       "LA             15.5  0.35371  0.81718  0.27048\n",
       "LR              5.5  0.30820  0.78506  0.19292\n",
       "TA             35.5  0.30993  0.79897  0.18669\n",
       "TR             25.5  0.32384  0.82212  0.20829"
      ]
     },
     "execution_count": 4,
     "metadata": {},
     "output_type": "execute_result"
    }
   ],
   "source": [
    "alto_results.groupby('condition').mean()"
   ]
  },
  {
   "cell_type": "code",
   "execution_count": null,
   "id": "01179dc6-8003-47f2-be51-307e10edbd03",
   "metadata": {},
   "outputs": [],
   "source": []
  }
 ],
 "metadata": {
  "kernelspec": {
   "display_name": "Python [conda env:tbip] *",
   "language": "python",
   "name": "conda-env-tbip-py"
  },
  "language_info": {
   "codemirror_mode": {
    "name": "ipython",
    "version": 3
   },
   "file_extension": ".py",
   "mimetype": "text/x-python",
   "name": "python",
   "nbconvert_exporter": "python",
   "pygments_lexer": "ipython3",
   "version": "3.6.13"
  }
 },
 "nbformat": 4,
 "nbformat_minor": 5
}
