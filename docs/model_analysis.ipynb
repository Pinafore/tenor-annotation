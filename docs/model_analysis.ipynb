{
 "cells": [
  {
   "cell_type": "markdown",
   "metadata": {},
   "source": [
    "## RAS Document Classification\n",
    "\n",
    "Andrew Mao\n",
    "\n",
    "* train baseline classifiers on RAS guidance documents, using tf-idf and topic model features. \n",
    "* simulate online learning and active learning\n",
    "* error analysis: confusion matrix, precision/recall by class\n",
    "\n",
    "Questions we try to answer:\n",
    "* do topic model features improve performance?\n",
    "* which model performs best in the online setting? \n",
    "* Does active learning work?\n",
    "* Is the model confidence sensible?\n",
    "* How accurate is the labelled/supervised topic model?\n",
    "\n",
    "\n",
    "Reference codes from \"All Roads Lead to Resilience? A Structured Comparison of Community-Oriented\n",
    "Guidance for Resilience, Climate Adaptation, and Sustainability Planning\""
   ]
  },
  {
   "cell_type": "code",
   "execution_count": 1,
   "metadata": {},
   "outputs": [
    {
     "name": "stderr",
     "output_type": "stream",
     "text": [
      "[nltk_data] Downloading package punkt to /cliphomes/amao1/nltk_data...\n",
      "[nltk_data]   Package punkt is already up-to-date!\n",
      "[nltk_data] Downloading package stopwords to\n",
      "[nltk_data]     /cliphomes/amao1/nltk_data...\n",
      "[nltk_data]   Package stopwords is already up-to-date!\n"
     ]
    }
   ],
   "source": [
    "import pandas as pd\n",
    "import numpy as np\n",
    "import string\n",
    "import re\n",
    "import nltk\n",
    "\n",
    "nltk.download('punkt')\n",
    "from nltk import word_tokenize, sent_tokenize\n",
    "\n",
    "nltk.download('stopwords')\n",
    "from nltk.corpus import stopwords\n",
    "stop_words = stopwords.words('english')\n",
    "\n",
    "from nltk.stem import PorterStemmer\n",
    "stemmer = PorterStemmer()\n",
    "\n",
    "from sklearn.feature_extraction.text import TfidfVectorizer, CountVectorizer\n",
    "from sklearn.model_selection import train_test_split\n"
   ]
  },
  {
   "cell_type": "code",
   "execution_count": 2,
   "metadata": {},
   "outputs": [
    {
     "data": {
      "text/html": [
       "<div>\n",
       "<style scoped>\n",
       "    .dataframe tbody tr th:only-of-type {\n",
       "        vertical-align: middle;\n",
       "    }\n",
       "\n",
       "    .dataframe tbody tr th {\n",
       "        vertical-align: top;\n",
       "    }\n",
       "\n",
       "    .dataframe thead th {\n",
       "        text-align: right;\n",
       "    }\n",
       "</style>\n",
       "<table border=\"1\" class=\"dataframe\">\n",
       "  <thead>\n",
       "    <tr style=\"text-align: right;\">\n",
       "      <th></th>\n",
       "      <th>Unnamed: 0</th>\n",
       "      <th>text</th>\n",
       "      <th>tag_0</th>\n",
       "      <th>tag_1</th>\n",
       "      <th>tag_2</th>\n",
       "      <th>source</th>\n",
       "      <th>group</th>\n",
       "      <th>doc_id</th>\n",
       "      <th>dominant_topic</th>\n",
       "      <th>dominant_topic_percent</th>\n",
       "      <th>topic_keywords</th>\n",
       "      <th>manual_label</th>\n",
       "      <th>predicted_label</th>\n",
       "      <th>prediction_score</th>\n",
       "      <th>uncertainty_score</th>\n",
       "    </tr>\n",
       "  </thead>\n",
       "  <tbody>\n",
       "    <tr>\n",
       "      <th>0</th>\n",
       "      <td>0</td>\n",
       "      <td>Appendix B: Federal Laws  and Executive Orders...</td>\n",
       "      <td>IMPLEMENTATION AND MONITORING</td>\n",
       "      <td>Plan Compliance and Integration</td>\n",
       "      <td>NaN</td>\n",
       "      <td>A5 - NOAA Coastal Management 2010 adaptationguide</td>\n",
       "      <td>Climate Adaptation</td>\n",
       "      <td>0</td>\n",
       "      <td>19.0</td>\n",
       "      <td>0.0951</td>\n",
       "      <td>climate, change, adaptation, tribe, resource, ...</td>\n",
       "      <td>NaN</td>\n",
       "      <td>NaN</td>\n",
       "      <td>NaN</td>\n",
       "      <td>NaN</td>\n",
       "    </tr>\n",
       "    <tr>\n",
       "      <th>1</th>\n",
       "      <td>1</td>\n",
       "      <td>Appendix C: Regional  Climate Change Summaries</td>\n",
       "      <td>FACT BASE</td>\n",
       "      <td>Fact Base (general)</td>\n",
       "      <td>Hazards</td>\n",
       "      <td>A5 - NOAA Coastal Management 2010 adaptationguide</td>\n",
       "      <td>Climate Adaptation</td>\n",
       "      <td>1</td>\n",
       "      <td>19.0</td>\n",
       "      <td>0.0960</td>\n",
       "      <td>climate, change, adaptation, tribe, resource, ...</td>\n",
       "      <td>NaN</td>\n",
       "      <td>NaN</td>\n",
       "      <td>NaN</td>\n",
       "      <td>NaN</td>\n",
       "    </tr>\n",
       "    <tr>\n",
       "      <th>2</th>\n",
       "      <td>2</td>\n",
       "      <td>Adaptation: The adjustment of natural or human...</td>\n",
       "      <td>GUIDE PURPOSE AND OBJECTIVES</td>\n",
       "      <td>Term definition</td>\n",
       "      <td>NaN</td>\n",
       "      <td>A8 - CA 2012 Adapting to Sea Level Rise</td>\n",
       "      <td>Climate Adaptation</td>\n",
       "      <td>2</td>\n",
       "      <td>0.0</td>\n",
       "      <td>0.0800</td>\n",
       "      <td>water, reduce, system, natural, energy, manage...</td>\n",
       "      <td>NaN</td>\n",
       "      <td>NaN</td>\n",
       "      <td>NaN</td>\n",
       "      <td>NaN</td>\n",
       "    </tr>\n",
       "    <tr>\n",
       "      <th>3</th>\n",
       "      <td>3</td>\n",
       "      <td>Adaptive capacity: A communitys ability to re-...</td>\n",
       "      <td>GUIDE PURPOSE AND OBJECTIVES</td>\n",
       "      <td>Term definition</td>\n",
       "      <td>NaN</td>\n",
       "      <td>A8 - CA 2012 Adapting to Sea Level Rise</td>\n",
       "      <td>Climate Adaptation</td>\n",
       "      <td>3</td>\n",
       "      <td>16.0</td>\n",
       "      <td>0.1740</td>\n",
       "      <td>hazard, impact, event, potential, identify, af...</td>\n",
       "      <td>NaN</td>\n",
       "      <td>NaN</td>\n",
       "      <td>NaN</td>\n",
       "      <td>NaN</td>\n",
       "    </tr>\n",
       "    <tr>\n",
       "      <th>4</th>\n",
       "      <td>4</td>\n",
       "      <td>Resilience: The ability of an entity or system...</td>\n",
       "      <td>GUIDE PURPOSE AND OBJECTIVES</td>\n",
       "      <td>Term definition</td>\n",
       "      <td>NaN</td>\n",
       "      <td>A8 - CA 2012 Adapting to Sea Level Rise</td>\n",
       "      <td>Climate Adaptation</td>\n",
       "      <td>4</td>\n",
       "      <td>1.0</td>\n",
       "      <td>0.0816</td>\n",
       "      <td>community, resilience, social, health, guide, ...</td>\n",
       "      <td>NaN</td>\n",
       "      <td>NaN</td>\n",
       "      <td>NaN</td>\n",
       "      <td>NaN</td>\n",
       "    </tr>\n",
       "    <tr>\n",
       "      <th>...</th>\n",
       "      <td>...</td>\n",
       "      <td>...</td>\n",
       "      <td>...</td>\n",
       "      <td>...</td>\n",
       "      <td>...</td>\n",
       "      <td>...</td>\n",
       "      <td>...</td>\n",
       "      <td>...</td>\n",
       "      <td>...</td>\n",
       "      <td>...</td>\n",
       "      <td>...</td>\n",
       "      <td>...</td>\n",
       "      <td>...</td>\n",
       "      <td>...</td>\n",
       "      <td>...</td>\n",
       "    </tr>\n",
       "    <tr>\n",
       "      <th>2136</th>\n",
       "      <td>2136</td>\n",
       "      <td>1. Review sustainability indicators and gather...</td>\n",
       "      <td>IMPLEMENTATION AND MONITORING</td>\n",
       "      <td>Evaluation and Monitoring</td>\n",
       "      <td>NaN</td>\n",
       "      <td>S6 - ICLEI_2009_20399_ICLEI_SUSTAINABIL</td>\n",
       "      <td>Sustainability</td>\n",
       "      <td>2136</td>\n",
       "      <td>8.0</td>\n",
       "      <td>0.1597</td>\n",
       "      <td>goal, sustainability, process, develop, object...</td>\n",
       "      <td>NaN</td>\n",
       "      <td>NaN</td>\n",
       "      <td>NaN</td>\n",
       "      <td>NaN</td>\n",
       "    </tr>\n",
       "    <tr>\n",
       "      <th>2137</th>\n",
       "      <td>2137</td>\n",
       "      <td>2. Develop an annual progress report  to updat...</td>\n",
       "      <td>IMPLEMENTATION AND MONITORING</td>\n",
       "      <td>Evaluation and Monitoring</td>\n",
       "      <td>NaN</td>\n",
       "      <td>S6 - ICLEI_2009_20399_ICLEI_SUSTAINABIL</td>\n",
       "      <td>Sustainability</td>\n",
       "      <td>2137</td>\n",
       "      <td>17.0</td>\n",
       "      <td>0.2115</td>\n",
       "      <td>action, strategy, implementation, implement, a...</td>\n",
       "      <td>NaN</td>\n",
       "      <td>NaN</td>\n",
       "      <td>NaN</td>\n",
       "      <td>NaN</td>\n",
       "    </tr>\n",
       "    <tr>\n",
       "      <th>2138</th>\n",
       "      <td>2138</td>\n",
       "      <td>3. Update the greenhouse gas emissions invento...</td>\n",
       "      <td>IMPLEMENTATION AND MONITORING</td>\n",
       "      <td>Evaluation and Monitoring</td>\n",
       "      <td>NaN</td>\n",
       "      <td>S6 - ICLEI_2009_20399_ICLEI_SUSTAINABIL</td>\n",
       "      <td>Sustainability</td>\n",
       "      <td>2138</td>\n",
       "      <td>0.0</td>\n",
       "      <td>0.1117</td>\n",
       "      <td>water, reduce, system, natural, energy, manage...</td>\n",
       "      <td>NaN</td>\n",
       "      <td>NaN</td>\n",
       "      <td>NaN</td>\n",
       "      <td>NaN</td>\n",
       "    </tr>\n",
       "    <tr>\n",
       "      <th>2139</th>\n",
       "      <td>2139</td>\n",
       "      <td>4. Use the website and e-mail blasts to update...</td>\n",
       "      <td>IMPLEMENTATION AND MONITORING</td>\n",
       "      <td>Implementation</td>\n",
       "      <td>Outreach and Documentation</td>\n",
       "      <td>S6 - ICLEI_2009_20399_ICLEI_SUSTAINABIL</td>\n",
       "      <td>Sustainability</td>\n",
       "      <td>2139</td>\n",
       "      <td>5.0</td>\n",
       "      <td>0.2405</td>\n",
       "      <td>stakeholder, public, group, outreach, engage, ...</td>\n",
       "      <td>NaN</td>\n",
       "      <td>NaN</td>\n",
       "      <td>NaN</td>\n",
       "      <td>NaN</td>\n",
       "    </tr>\n",
       "    <tr>\n",
       "      <th>2140</th>\n",
       "      <td>2140</td>\n",
       "      <td>5. Update the sustainability advisory board an...</td>\n",
       "      <td>IMPLEMENTATION AND MONITORING</td>\n",
       "      <td>Evaluation and Monitoring</td>\n",
       "      <td>NaN</td>\n",
       "      <td>S6 - ICLEI_2009_20399_ICLEI_SUSTAINABIL</td>\n",
       "      <td>Sustainability</td>\n",
       "      <td>2140</td>\n",
       "      <td>5.0</td>\n",
       "      <td>0.2178</td>\n",
       "      <td>stakeholder, public, group, outreach, engage, ...</td>\n",
       "      <td>NaN</td>\n",
       "      <td>NaN</td>\n",
       "      <td>NaN</td>\n",
       "      <td>NaN</td>\n",
       "    </tr>\n",
       "  </tbody>\n",
       "</table>\n",
       "<p>2141 rows × 15 columns</p>\n",
       "</div>"
      ],
      "text/plain": [
       "      Unnamed: 0                                               text  \\\n",
       "0              0  Appendix B: Federal Laws  and Executive Orders...   \n",
       "1              1     Appendix C: Regional  Climate Change Summaries   \n",
       "2              2  Adaptation: The adjustment of natural or human...   \n",
       "3              3  Adaptive capacity: A communitys ability to re-...   \n",
       "4              4  Resilience: The ability of an entity or system...   \n",
       "...          ...                                                ...   \n",
       "2136        2136  1. Review sustainability indicators and gather...   \n",
       "2137        2137  2. Develop an annual progress report  to updat...   \n",
       "2138        2138  3. Update the greenhouse gas emissions invento...   \n",
       "2139        2139  4. Use the website and e-mail blasts to update...   \n",
       "2140        2140  5. Update the sustainability advisory board an...   \n",
       "\n",
       "                              tag_0                            tag_1  \\\n",
       "0     IMPLEMENTATION AND MONITORING  Plan Compliance and Integration   \n",
       "1                         FACT BASE              Fact Base (general)   \n",
       "2      GUIDE PURPOSE AND OBJECTIVES                  Term definition   \n",
       "3      GUIDE PURPOSE AND OBJECTIVES                  Term definition   \n",
       "4      GUIDE PURPOSE AND OBJECTIVES                  Term definition   \n",
       "...                             ...                              ...   \n",
       "2136  IMPLEMENTATION AND MONITORING        Evaluation and Monitoring   \n",
       "2137  IMPLEMENTATION AND MONITORING        Evaluation and Monitoring   \n",
       "2138  IMPLEMENTATION AND MONITORING        Evaluation and Monitoring   \n",
       "2139  IMPLEMENTATION AND MONITORING                   Implementation   \n",
       "2140  IMPLEMENTATION AND MONITORING        Evaluation and Monitoring   \n",
       "\n",
       "                           tag_2  \\\n",
       "0                            NaN   \n",
       "1                        Hazards   \n",
       "2                            NaN   \n",
       "3                            NaN   \n",
       "4                            NaN   \n",
       "...                          ...   \n",
       "2136                         NaN   \n",
       "2137                         NaN   \n",
       "2138                         NaN   \n",
       "2139  Outreach and Documentation   \n",
       "2140                         NaN   \n",
       "\n",
       "                                                 source               group  \\\n",
       "0     A5 - NOAA Coastal Management 2010 adaptationguide  Climate Adaptation   \n",
       "1     A5 - NOAA Coastal Management 2010 adaptationguide  Climate Adaptation   \n",
       "2               A8 - CA 2012 Adapting to Sea Level Rise  Climate Adaptation   \n",
       "3               A8 - CA 2012 Adapting to Sea Level Rise  Climate Adaptation   \n",
       "4               A8 - CA 2012 Adapting to Sea Level Rise  Climate Adaptation   \n",
       "...                                                 ...                 ...   \n",
       "2136            S6 - ICLEI_2009_20399_ICLEI_SUSTAINABIL      Sustainability   \n",
       "2137            S6 - ICLEI_2009_20399_ICLEI_SUSTAINABIL      Sustainability   \n",
       "2138            S6 - ICLEI_2009_20399_ICLEI_SUSTAINABIL      Sustainability   \n",
       "2139            S6 - ICLEI_2009_20399_ICLEI_SUSTAINABIL      Sustainability   \n",
       "2140            S6 - ICLEI_2009_20399_ICLEI_SUSTAINABIL      Sustainability   \n",
       "\n",
       "      doc_id  dominant_topic  dominant_topic_percent  \\\n",
       "0          0            19.0                  0.0951   \n",
       "1          1            19.0                  0.0960   \n",
       "2          2             0.0                  0.0800   \n",
       "3          3            16.0                  0.1740   \n",
       "4          4             1.0                  0.0816   \n",
       "...      ...             ...                     ...   \n",
       "2136    2136             8.0                  0.1597   \n",
       "2137    2137            17.0                  0.2115   \n",
       "2138    2138             0.0                  0.1117   \n",
       "2139    2139             5.0                  0.2405   \n",
       "2140    2140             5.0                  0.2178   \n",
       "\n",
       "                                         topic_keywords  manual_label  \\\n",
       "0     climate, change, adaptation, tribe, resource, ...           NaN   \n",
       "1     climate, change, adaptation, tribe, resource, ...           NaN   \n",
       "2     water, reduce, system, natural, energy, manage...           NaN   \n",
       "3     hazard, impact, event, potential, identify, af...           NaN   \n",
       "4     community, resilience, social, health, guide, ...           NaN   \n",
       "...                                                 ...           ...   \n",
       "2136  goal, sustainability, process, develop, object...           NaN   \n",
       "2137  action, strategy, implementation, implement, a...           NaN   \n",
       "2138  water, reduce, system, natural, energy, manage...           NaN   \n",
       "2139  stakeholder, public, group, outreach, engage, ...           NaN   \n",
       "2140  stakeholder, public, group, outreach, engage, ...           NaN   \n",
       "\n",
       "      predicted_label  prediction_score  uncertainty_score  \n",
       "0                 NaN               NaN                NaN  \n",
       "1                 NaN               NaN                NaN  \n",
       "2                 NaN               NaN                NaN  \n",
       "3                 NaN               NaN                NaN  \n",
       "4                 NaN               NaN                NaN  \n",
       "...               ...               ...                ...  \n",
       "2136              NaN               NaN                NaN  \n",
       "2137              NaN               NaN                NaN  \n",
       "2138              NaN               NaN                NaN  \n",
       "2139              NaN               NaN                NaN  \n",
       "2140              NaN               NaN                NaN  \n",
       "\n",
       "[2141 rows x 15 columns]"
      ]
     },
     "execution_count": 2,
     "metadata": {},
     "output_type": "execute_result"
    }
   ],
   "source": [
    "# the data is Juan's csv with dropped duplicates, to ensure consistency when joining with topic model features\n",
    "\n",
    "# data_path = \"data/corpus_guidance.csv\"\n",
    "data_path = \"data/nist_ras_documents_cleaned.csv\"\n",
    "df = pd.read_csv(data_path)\n",
    "df"
   ]
  },
  {
   "cell_type": "code",
   "execution_count": 3,
   "metadata": {},
   "outputs": [],
   "source": [
    "# old_index = df.index\n",
    "# df = df.drop_duplicates(subset=['snippet'])\n",
    "# df.to_csv(\"data/nist_ras_cleaned.csv\")\n",
    "# df.shape"
   ]
  },
  {
   "cell_type": "code",
   "execution_count": 6,
   "metadata": {},
   "outputs": [
    {
     "data": {
      "text/plain": [
       "['Strategy Action (general)',\n",
       " 'Implementation',\n",
       " 'Guide Purpose Statement',\n",
       " 'Planning Team (general)',\n",
       " 'Evaluation and Monitoring',\n",
       " 'Strategy Selection',\n",
       " 'Community Goals Identification',\n",
       " 'Fact Base (general)',\n",
       " 'Analysis Methods',\n",
       " 'Figures',\n",
       " 'Term definition',\n",
       " 'Plan Compliance and Integration',\n",
       " 'Stakeholder Involvement (general)',\n",
       " 'Guide Outcomes']"
      ]
     },
     "execution_count": 6,
     "metadata": {},
     "output_type": "execute_result"
    }
   ],
   "source": [
    "# preprocessing\n",
    "\n",
    "# get list of texts (the \"documents\"), labels (\"RAS\"), and source (the source guidance document)\n",
    "\n",
    "raw = df['text'].apply(str).tolist()\n",
    "text = df['text'].apply(str).tolist()\n",
    "# label = df['group'].apply(str).tolist()\n",
    "labels = df['tag_1'].apply(str).tolist()\n",
    "source = df['source'].apply(str).tolist()\n",
    "# id = df['unique_id'].tolist()\n",
    "# tag_0, tag_1, tag_2 = df['tag_0'].apply(str).tolist(), df['tag_1'].apply(str).tolist(), df['tag_2'].apply(str).tolist()\n",
    "\n",
    "# list of unique labels\n",
    "\n",
    "unique_labels = list(set(df['tag_1']))\n",
    "unique_labels"
   ]
  },
  {
   "cell_type": "code",
   "execution_count": 7,
   "metadata": {},
   "outputs": [
    {
     "data": {
      "text/plain": [
       "Strategy Action (general)            521\n",
       "Fact Base (general)                  334\n",
       "Analysis Methods                     282\n",
       "Stakeholder Involvement (general)    249\n",
       "Implementation                       125\n",
       "Community Goals Identification       121\n",
       "Strategy Selection                   121\n",
       "Planning Team (general)              118\n",
       "Evaluation and Monitoring             71\n",
       "Guide Purpose Statement               69\n",
       "Term definition                       49\n",
       "Plan Compliance and Integration       41\n",
       "Guide Outcomes                        37\n",
       "Figures                                3\n",
       "Name: tag_1, dtype: int64"
      ]
     },
     "metadata": {},
     "output_type": "display_data"
    },
    {
     "data": {
      "text/plain": [
       "<AxesSubplot:>"
      ]
     },
     "execution_count": 7,
     "metadata": {},
     "output_type": "execute_result"
    },
    {
     "data": {
      "image/png": "[encoded data removed]",
      "text/plain": [
       "<Figure size 432x288 with 1 Axes>"
      ]
     },
     "metadata": {
      "needs_background": "light"
     },
     "output_type": "display_data"
    }
   ],
   "source": [
    "# class frequencies, show imbalance\n",
    "\n",
    "display(df['tag_1'].value_counts())\n",
    "\n",
    "df['tag_1'].value_counts().plot.bar()"
   ]
  },
  {
   "cell_type": "code",
   "execution_count": 8,
   "metadata": {},
   "outputs": [],
   "source": [
    "# tfidf features\n",
    "\n",
    "# tfidf_lim = TfidfVectorizer(min_df=0.025, max_df=0.975, stop_words='english', lowercase=True, ngram_range=(1,2))\n",
    "tfidf_lim = TfidfVectorizer(stop_words='english', lowercase=True, ngram_range=(1,2), min_df=2, max_df=0.99)"
   ]
  },
  {
   "cell_type": "code",
   "execution_count": 9,
   "metadata": {},
   "outputs": [
    {
     "name": "stdout",
     "output_type": "stream",
     "text": [
      "(2142, 14)\n"
     ]
    }
   ],
   "source": [
    "# topic model features\n",
    "\n",
    "with open(f'data/topic_features/ras_features_{14}_topics.npy','rb+') as f:\n",
    "    topic_features = np.load(f)\n",
    "    print(topic_features.shape)\n",
    "    \n",
    "# topic_features = np.delete(topic_features, list(dropped_indices), 0) # drop rows\n",
    "# topic_features.shape"
   ]
  },
  {
   "cell_type": "code",
   "execution_count": 10,
   "metadata": {},
   "outputs": [
    {
     "name": "stdout",
     "output_type": "stream",
     "text": [
      "tfidf_features (2141, 22963)\n",
      "The accuracy of the dummy classifier on the test set is 0.242\n",
      "The accuracy of the logistic classifier on the test set is 0.632\n",
      "topic features\n",
      "(2142, 14)\n"
     ]
    },
    {
     "ename": "ValueError",
     "evalue": "Found input variables with inconsistent numbers of samples: [2142, 2141]",
     "output_type": "error",
     "traceback": [
      "\u001b[0;31m---------------------------------------------------------------------------\u001b[0m",
      "\u001b[0;31mValueError\u001b[0m                                Traceback (most recent call last)",
      "\u001b[0;32m/tmp/ipykernel_13272/4153147639.py\u001b[0m in \u001b[0;36m<module>\u001b[0;34m\u001b[0m\n\u001b[1;32m     39\u001b[0m \u001b[0mprint\u001b[0m\u001b[0;34m(\u001b[0m\u001b[0;34m'topic features'\u001b[0m\u001b[0;34m)\u001b[0m\u001b[0;34m\u001b[0m\u001b[0;34m\u001b[0m\u001b[0m\n\u001b[1;32m     40\u001b[0m \u001b[0mprint\u001b[0m\u001b[0;34m(\u001b[0m\u001b[0mtopic_features\u001b[0m\u001b[0;34m.\u001b[0m\u001b[0mshape\u001b[0m\u001b[0;34m)\u001b[0m\u001b[0;34m\u001b[0m\u001b[0;34m\u001b[0m\u001b[0m\n\u001b[0;32m---> 41\u001b[0;31m \u001b[0mrun_ML_pipeline\u001b[0m\u001b[0;34m(\u001b[0m\u001b[0mtopic_features\u001b[0m\u001b[0;34m,\u001b[0m\u001b[0mlabels\u001b[0m\u001b[0;34m)\u001b[0m\u001b[0;34m\u001b[0m\u001b[0;34m\u001b[0m\u001b[0m\n\u001b[0m\u001b[1;32m     42\u001b[0m \u001b[0;34m\u001b[0m\u001b[0m\n\u001b[1;32m     43\u001b[0m \u001b[0;31m# join tfidf with topic features\u001b[0m\u001b[0;34m\u001b[0m\u001b[0;34m\u001b[0m\u001b[0;34m\u001b[0m\u001b[0m\n",
      "\u001b[0;32m/tmp/ipykernel_13272/4153147639.py\u001b[0m in \u001b[0;36mrun_ML_pipeline\u001b[0;34m(features, labels, model)\u001b[0m\n\u001b[1;32m      8\u001b[0m \u001b[0;34m\u001b[0m\u001b[0m\n\u001b[1;32m      9\u001b[0m \u001b[0;34m\u001b[0m\u001b[0m\n\u001b[0;32m---> 10\u001b[0;31m     X_train, X_test, y_train, y_test = train_test_split(features, labels, \n\u001b[0m\u001b[1;32m     11\u001b[0m                                                     test_size=0.2, random_state=53)\n\u001b[1;32m     12\u001b[0m \u001b[0;34m\u001b[0m\u001b[0m\n",
      "\u001b[0;32m/fs/clip-quiz/amao/miniconda3/envs/nlp/lib/python3.8/site-packages/sklearn/model_selection/_split.py\u001b[0m in \u001b[0;36mtrain_test_split\u001b[0;34m(test_size, train_size, random_state, shuffle, stratify, *arrays)\u001b[0m\n\u001b[1;32m   2417\u001b[0m         \u001b[0;32mraise\u001b[0m \u001b[0mValueError\u001b[0m\u001b[0;34m(\u001b[0m\u001b[0;34m\"At least one array required as input\"\u001b[0m\u001b[0;34m)\u001b[0m\u001b[0;34m\u001b[0m\u001b[0;34m\u001b[0m\u001b[0m\n\u001b[1;32m   2418\u001b[0m \u001b[0;34m\u001b[0m\u001b[0m\n\u001b[0;32m-> 2419\u001b[0;31m     \u001b[0marrays\u001b[0m \u001b[0;34m=\u001b[0m \u001b[0mindexable\u001b[0m\u001b[0;34m(\u001b[0m\u001b[0;34m*\u001b[0m\u001b[0marrays\u001b[0m\u001b[0;34m)\u001b[0m\u001b[0;34m\u001b[0m\u001b[0;34m\u001b[0m\u001b[0m\n\u001b[0m\u001b[1;32m   2420\u001b[0m \u001b[0;34m\u001b[0m\u001b[0m\n\u001b[1;32m   2421\u001b[0m     \u001b[0mn_samples\u001b[0m \u001b[0;34m=\u001b[0m \u001b[0m_num_samples\u001b[0m\u001b[0;34m(\u001b[0m\u001b[0marrays\u001b[0m\u001b[0;34m[\u001b[0m\u001b[0;36m0\u001b[0m\u001b[0;34m]\u001b[0m\u001b[0;34m)\u001b[0m\u001b[0;34m\u001b[0m\u001b[0;34m\u001b[0m\u001b[0m\n",
      "\u001b[0;32m/fs/clip-quiz/amao/miniconda3/envs/nlp/lib/python3.8/site-packages/sklearn/utils/validation.py\u001b[0m in \u001b[0;36mindexable\u001b[0;34m(*iterables)\u001b[0m\n\u001b[1;32m    368\u001b[0m     \"\"\"\n\u001b[1;32m    369\u001b[0m     \u001b[0mresult\u001b[0m \u001b[0;34m=\u001b[0m \u001b[0;34m[\u001b[0m\u001b[0m_make_indexable\u001b[0m\u001b[0;34m(\u001b[0m\u001b[0mX\u001b[0m\u001b[0;34m)\u001b[0m \u001b[0;32mfor\u001b[0m \u001b[0mX\u001b[0m \u001b[0;32min\u001b[0m \u001b[0miterables\u001b[0m\u001b[0;34m]\u001b[0m\u001b[0;34m\u001b[0m\u001b[0;34m\u001b[0m\u001b[0m\n\u001b[0;32m--> 370\u001b[0;31m     \u001b[0mcheck_consistent_length\u001b[0m\u001b[0;34m(\u001b[0m\u001b[0;34m*\u001b[0m\u001b[0mresult\u001b[0m\u001b[0;34m)\u001b[0m\u001b[0;34m\u001b[0m\u001b[0;34m\u001b[0m\u001b[0m\n\u001b[0m\u001b[1;32m    371\u001b[0m     \u001b[0;32mreturn\u001b[0m \u001b[0mresult\u001b[0m\u001b[0;34m\u001b[0m\u001b[0;34m\u001b[0m\u001b[0m\n\u001b[1;32m    372\u001b[0m \u001b[0;34m\u001b[0m\u001b[0m\n",
      "\u001b[0;32m/fs/clip-quiz/amao/miniconda3/envs/nlp/lib/python3.8/site-packages/sklearn/utils/validation.py\u001b[0m in \u001b[0;36mcheck_consistent_length\u001b[0;34m(*arrays)\u001b[0m\n\u001b[1;32m    329\u001b[0m     \u001b[0muniques\u001b[0m \u001b[0;34m=\u001b[0m \u001b[0mnp\u001b[0m\u001b[0;34m.\u001b[0m\u001b[0munique\u001b[0m\u001b[0;34m(\u001b[0m\u001b[0mlengths\u001b[0m\u001b[0;34m)\u001b[0m\u001b[0;34m\u001b[0m\u001b[0;34m\u001b[0m\u001b[0m\n\u001b[1;32m    330\u001b[0m     \u001b[0;32mif\u001b[0m \u001b[0mlen\u001b[0m\u001b[0;34m(\u001b[0m\u001b[0muniques\u001b[0m\u001b[0;34m)\u001b[0m \u001b[0;34m>\u001b[0m \u001b[0;36m1\u001b[0m\u001b[0;34m:\u001b[0m\u001b[0;34m\u001b[0m\u001b[0;34m\u001b[0m\u001b[0m\n\u001b[0;32m--> 331\u001b[0;31m         raise ValueError(\n\u001b[0m\u001b[1;32m    332\u001b[0m             \u001b[0;34m\"Found input variables with inconsistent numbers of samples: %r\"\u001b[0m\u001b[0;34m\u001b[0m\u001b[0;34m\u001b[0m\u001b[0m\n\u001b[1;32m    333\u001b[0m             \u001b[0;34m%\u001b[0m \u001b[0;34m[\u001b[0m\u001b[0mint\u001b[0m\u001b[0;34m(\u001b[0m\u001b[0ml\u001b[0m\u001b[0;34m)\u001b[0m \u001b[0;32mfor\u001b[0m \u001b[0ml\u001b[0m \u001b[0;32min\u001b[0m \u001b[0mlengths\u001b[0m\u001b[0;34m]\u001b[0m\u001b[0;34m\u001b[0m\u001b[0;34m\u001b[0m\u001b[0m\n",
      "\u001b[0;31mValueError\u001b[0m: Found input variables with inconsistent numbers of samples: [2142, 2141]"
     ]
    }
   ],
   "source": [
    "from sklearn.linear_model import SGDClassifier\n",
    "from sklearn.naive_bayes import MultinomialNB\n",
    "from sklearn.dummy import DummyClassifier\n",
    "from sklearn.metrics import accuracy_score, confusion_matrix\n",
    "\n",
    "\n",
    "def run_ML_pipeline(features,labels,model=\"logistic\"):\n",
    "    \n",
    "    \n",
    "    X_train, X_test, y_train, y_test = train_test_split(features, labels, \n",
    "                                                    test_size=0.2, random_state=53)\n",
    "\n",
    "#     classifier = LogisticRegression(multi_class=\"multinomial\")\n",
    "    if model == 'logistic':\n",
    "        classifier = SGDClassifier('log')\n",
    "    elif model == 'dummy':\n",
    "        classifier = DummyClassifier(strategy=\"most_frequent\")\n",
    "#         classifier = DummyClassifier(strategy=\"stratified\")\n",
    "        \n",
    "    classifier.fit(X_train, y_train)\n",
    "\n",
    "    preds = classifier.predict(X_test)\n",
    "\n",
    "    score = accuracy_score(y_test, preds)\n",
    "    print(f\"The accuracy of the {model} classifier on the test set is %.3f\" % score)\n",
    "    \n",
    "    return classifier, preds, score\n",
    "\n",
    "\n",
    "# tfidf\n",
    "tfidf_features = tfidf_lim.fit_transform(text)\n",
    "print('tfidf_features', tfidf_features.shape)\n",
    "\n",
    "# baseline guesser\n",
    "run_ML_pipeline(tfidf_features,labels,model='dummy')\n",
    "run_ML_pipeline(tfidf_features,labels)\n",
    "\n",
    "# topics only\n",
    "print('topic features')\n",
    "print(topic_features.shape)\n",
    "run_ML_pipeline(topic_features,labels)\n",
    "\n",
    "# join tfidf with topic features\n",
    "print('combined features')\n",
    "combined_features = np.concatenate((tfidf_features.toarray(), topic_features), axis=1)\n",
    "print(combined_features.shape)\n",
    "\n",
    "_,_,_ = run_ML_pipeline(combined_features,labels)"
   ]
  },
  {
   "cell_type": "code",
   "execution_count": 11,
   "metadata": {},
   "outputs": [
    {
     "name": "stdout",
     "output_type": "stream",
     "text": [
      "2 topics\n"
     ]
    },
    {
     "ename": "ValueError",
     "evalue": "Found input variables with inconsistent numbers of samples: [2142, 2141]",
     "output_type": "error",
     "traceback": [
      "\u001b[0;31m---------------------------------------------------------------------------\u001b[0m",
      "\u001b[0;31mValueError\u001b[0m                                Traceback (most recent call last)",
      "\u001b[0;32m/tmp/ipykernel_13272/1567279981.py\u001b[0m in \u001b[0;36m<module>\u001b[0;34m\u001b[0m\n\u001b[1;32m     16\u001b[0m \u001b[0;34m\u001b[0m\u001b[0m\n\u001b[1;32m     17\u001b[0m     \u001b[0mprint\u001b[0m\u001b[0;34m(\u001b[0m\u001b[0;34mf'{num_topics} topics'\u001b[0m\u001b[0;34m)\u001b[0m\u001b[0;34m\u001b[0m\u001b[0;34m\u001b[0m\u001b[0m\n\u001b[0;32m---> 18\u001b[0;31m     \u001b[0m_\u001b[0m\u001b[0;34m,\u001b[0m\u001b[0m_\u001b[0m\u001b[0;34m,\u001b[0m\u001b[0maccuracy\u001b[0m \u001b[0;34m=\u001b[0m \u001b[0mrun_ML_pipeline\u001b[0m\u001b[0;34m(\u001b[0m\u001b[0mtopic_features\u001b[0m\u001b[0;34m,\u001b[0m\u001b[0mlabels\u001b[0m\u001b[0;34m)\u001b[0m\u001b[0;34m\u001b[0m\u001b[0;34m\u001b[0m\u001b[0m\n\u001b[0m\u001b[1;32m     19\u001b[0m     \u001b[0mmetrics\u001b[0m\u001b[0;34m[\u001b[0m\u001b[0;34m'topic_features'\u001b[0m\u001b[0;34m]\u001b[0m\u001b[0;34m.\u001b[0m\u001b[0mappend\u001b[0m\u001b[0;34m(\u001b[0m\u001b[0maccuracy\u001b[0m\u001b[0;34m)\u001b[0m\u001b[0;34m\u001b[0m\u001b[0;34m\u001b[0m\u001b[0m\n\u001b[1;32m     20\u001b[0m \u001b[0;34m\u001b[0m\u001b[0m\n",
      "\u001b[0;32m/tmp/ipykernel_13272/4153147639.py\u001b[0m in \u001b[0;36mrun_ML_pipeline\u001b[0;34m(features, labels, model)\u001b[0m\n\u001b[1;32m      8\u001b[0m \u001b[0;34m\u001b[0m\u001b[0m\n\u001b[1;32m      9\u001b[0m \u001b[0;34m\u001b[0m\u001b[0m\n\u001b[0;32m---> 10\u001b[0;31m     X_train, X_test, y_train, y_test = train_test_split(features, labels, \n\u001b[0m\u001b[1;32m     11\u001b[0m                                                     test_size=0.2, random_state=53)\n\u001b[1;32m     12\u001b[0m \u001b[0;34m\u001b[0m\u001b[0m\n",
      "\u001b[0;32m/fs/clip-quiz/amao/miniconda3/envs/nlp/lib/python3.8/site-packages/sklearn/model_selection/_split.py\u001b[0m in \u001b[0;36mtrain_test_split\u001b[0;34m(test_size, train_size, random_state, shuffle, stratify, *arrays)\u001b[0m\n\u001b[1;32m   2417\u001b[0m         \u001b[0;32mraise\u001b[0m \u001b[0mValueError\u001b[0m\u001b[0;34m(\u001b[0m\u001b[0;34m\"At least one array required as input\"\u001b[0m\u001b[0;34m)\u001b[0m\u001b[0;34m\u001b[0m\u001b[0;34m\u001b[0m\u001b[0m\n\u001b[1;32m   2418\u001b[0m \u001b[0;34m\u001b[0m\u001b[0m\n\u001b[0;32m-> 2419\u001b[0;31m     \u001b[0marrays\u001b[0m \u001b[0;34m=\u001b[0m \u001b[0mindexable\u001b[0m\u001b[0;34m(\u001b[0m\u001b[0;34m*\u001b[0m\u001b[0marrays\u001b[0m\u001b[0;34m)\u001b[0m\u001b[0;34m\u001b[0m\u001b[0;34m\u001b[0m\u001b[0m\n\u001b[0m\u001b[1;32m   2420\u001b[0m \u001b[0;34m\u001b[0m\u001b[0m\n\u001b[1;32m   2421\u001b[0m     \u001b[0mn_samples\u001b[0m \u001b[0;34m=\u001b[0m \u001b[0m_num_samples\u001b[0m\u001b[0;34m(\u001b[0m\u001b[0marrays\u001b[0m\u001b[0;34m[\u001b[0m\u001b[0;36m0\u001b[0m\u001b[0;34m]\u001b[0m\u001b[0;34m)\u001b[0m\u001b[0;34m\u001b[0m\u001b[0;34m\u001b[0m\u001b[0m\n",
      "\u001b[0;32m/fs/clip-quiz/amao/miniconda3/envs/nlp/lib/python3.8/site-packages/sklearn/utils/validation.py\u001b[0m in \u001b[0;36mindexable\u001b[0;34m(*iterables)\u001b[0m\n\u001b[1;32m    368\u001b[0m     \"\"\"\n\u001b[1;32m    369\u001b[0m     \u001b[0mresult\u001b[0m \u001b[0;34m=\u001b[0m \u001b[0;34m[\u001b[0m\u001b[0m_make_indexable\u001b[0m\u001b[0;34m(\u001b[0m\u001b[0mX\u001b[0m\u001b[0;34m)\u001b[0m \u001b[0;32mfor\u001b[0m \u001b[0mX\u001b[0m \u001b[0;32min\u001b[0m \u001b[0miterables\u001b[0m\u001b[0;34m]\u001b[0m\u001b[0;34m\u001b[0m\u001b[0;34m\u001b[0m\u001b[0m\n\u001b[0;32m--> 370\u001b[0;31m     \u001b[0mcheck_consistent_length\u001b[0m\u001b[0;34m(\u001b[0m\u001b[0;34m*\u001b[0m\u001b[0mresult\u001b[0m\u001b[0;34m)\u001b[0m\u001b[0;34m\u001b[0m\u001b[0;34m\u001b[0m\u001b[0m\n\u001b[0m\u001b[1;32m    371\u001b[0m     \u001b[0;32mreturn\u001b[0m \u001b[0mresult\u001b[0m\u001b[0;34m\u001b[0m\u001b[0;34m\u001b[0m\u001b[0m\n\u001b[1;32m    372\u001b[0m \u001b[0;34m\u001b[0m\u001b[0m\n",
      "\u001b[0;32m/fs/clip-quiz/amao/miniconda3/envs/nlp/lib/python3.8/site-packages/sklearn/utils/validation.py\u001b[0m in \u001b[0;36mcheck_consistent_length\u001b[0;34m(*arrays)\u001b[0m\n\u001b[1;32m    329\u001b[0m     \u001b[0muniques\u001b[0m \u001b[0;34m=\u001b[0m \u001b[0mnp\u001b[0m\u001b[0;34m.\u001b[0m\u001b[0munique\u001b[0m\u001b[0;34m(\u001b[0m\u001b[0mlengths\u001b[0m\u001b[0;34m)\u001b[0m\u001b[0;34m\u001b[0m\u001b[0;34m\u001b[0m\u001b[0m\n\u001b[1;32m    330\u001b[0m     \u001b[0;32mif\u001b[0m \u001b[0mlen\u001b[0m\u001b[0;34m(\u001b[0m\u001b[0muniques\u001b[0m\u001b[0;34m)\u001b[0m \u001b[0;34m>\u001b[0m \u001b[0;36m1\u001b[0m\u001b[0;34m:\u001b[0m\u001b[0;34m\u001b[0m\u001b[0;34m\u001b[0m\u001b[0m\n\u001b[0;32m--> 331\u001b[0;31m         raise ValueError(\n\u001b[0m\u001b[1;32m    332\u001b[0m             \u001b[0;34m\"Found input variables with inconsistent numbers of samples: %r\"\u001b[0m\u001b[0;34m\u001b[0m\u001b[0;34m\u001b[0m\u001b[0m\n\u001b[1;32m    333\u001b[0m             \u001b[0;34m%\u001b[0m \u001b[0;34m[\u001b[0m\u001b[0mint\u001b[0m\u001b[0;34m(\u001b[0m\u001b[0ml\u001b[0m\u001b[0;34m)\u001b[0m \u001b[0;32mfor\u001b[0m \u001b[0ml\u001b[0m \u001b[0;32min\u001b[0m \u001b[0mlengths\u001b[0m\u001b[0;34m]\u001b[0m\u001b[0;34m\u001b[0m\u001b[0;34m\u001b[0m\u001b[0m\n",
      "\u001b[0;31mValueError\u001b[0m: Found input variables with inconsistent numbers of samples: [2142, 2141]"
     ]
    }
   ],
   "source": [
    "# number of topics v model accuracy\n",
    "\n",
    "from os import path\n",
    "from collections import defaultdict\n",
    "\n",
    "limit=40; start=2; step=6;\n",
    "n_range = range(start, limit, step)\n",
    "\n",
    "features_dir = \"data/topic_features\"\n",
    "\n",
    "metrics = defaultdict(list)\n",
    "\n",
    "for num_topics in n_range:\n",
    "    features_path = path.join(features_dir, f'ras_features_{num_topics}_topics.npy')\n",
    "    topic_features = np.load(features_path)\n",
    "    \n",
    "    print(f'{num_topics} topics')\n",
    "    _,_,accuracy = run_ML_pipeline(topic_features,labels)\n",
    "    metrics['topic_features'].append(accuracy)\n",
    "    \n",
    "    combined_features = np.concatenate((tfidf_features.toarray(), topic_features), axis=1)\n",
    "    _,_,accuracy = run_ML_pipeline(combined_features,labels)\n",
    "    metrics['combined_features'].append(accuracy)\n",
    "\n",
    "\n",
    "metrics['num_topics'] = n_range\n"
   ]
  },
  {
   "cell_type": "code",
   "execution_count": null,
   "metadata": {},
   "outputs": [],
   "source": [
    "pd.DataFrame(metrics).plot(x='num_topics', title='Model Accuracy Against Number of Topics')"
   ]
  },
  {
   "cell_type": "code",
   "execution_count": null,
   "metadata": {},
   "outputs": [],
   "source": [
    "X_train, X_test, y_train, y_test = train_test_split(combined_features, labels, \n",
    "                                                test_size=0.2, random_state=53)\n",
    "\n",
    "X_train.shape"
   ]
  },
  {
   "cell_type": "code",
   "execution_count": 21,
   "metadata": {},
   "outputs": [
    {
     "name": "stdout",
     "output_type": "stream",
     "text": [
      "267\n"
     ]
    }
   ],
   "source": [
    "# online learning experiments: simulate annotation\n",
    "from sklearn.linear_model import Perceptron\n",
    "import time\n",
    "\n",
    "# Here are some classifiers that support the `partial_fit` method\n",
    "partial_fit_classifiers = {\n",
    "    'logistic': SGDClassifier('log'),\n",
    "    'svm': SGDClassifier('hinge'),\n",
    "#     'Perceptron': Perceptron(),\n",
    "    'NB Multinomial': MultinomialNB(alpha=0.01),\n",
    "#     'Passive-Aggressive': PassiveAggressiveClassifier(),\n",
    "}\n",
    "\n",
    "\n",
    "# # test data statistics\n",
    "test_stats = {'n_test': 0, 'n_test_pos': 0}\n",
    "\n",
    "\n",
    "def progress(cls_name, stats):\n",
    "    \"\"\"Report progress information, return a string.\"\"\"\n",
    "    duration = time.time() - stats['t0']\n",
    "    s = \"%20s classifier : \\t\" % cls_name\n",
    "    s += \"%(n_train)6d train docs (%(n_train_pos)6d positive) \" % stats\n",
    "    s += \"%(n_test)6d test docs (%(n_test_pos)6d positive) \" % test_stats\n",
    "    s += \"accuracy: %(accuracy).3f \" % stats\n",
    "    s += \"in %.2fs (%5d docs/s)\" % (duration, stats['n_train'] / duration)\n",
    "    return s\n",
    "\n",
    "\n",
    "cls_stats = {}\n",
    "\n",
    "for cls_name in partial_fit_classifiers:\n",
    "    stats = {'n_train': 0, 'n_train_pos': 0,\n",
    "             'accuracy': 0.0, 'accuracy_history': [(0, 0)], 't0': time.time(),\n",
    "             'runtime_history': [(0, 0)], 'total_fit_time': 0.0}\n",
    "    cls_stats[cls_name] = stats\n",
    "\n",
    "# minibatch size: online learning is 1 \n",
    "minibatch_size = 8\n",
    "minibatches = []\n",
    "\n",
    "# X = combined_features\n",
    "X = tfidf_features\n",
    "y = np.array(labels)\n",
    "# X = X_train\n",
    "# y = y_train\n",
    "\n",
    "i=0\n",
    "# while i+minibatch_size<len(X_train):\n",
    "#     minibatches.append((X_train[i:i+minibatch_size],y_train[i:i+minibatch_size]))\n",
    "#     i+=minibatch_size\n",
    "while i+minibatch_size<X.shape[0]:\n",
    "    minibatches.append((X[i:i+minibatch_size], labels[i:i+minibatch_size]))\n",
    "    i+=minibatch_size\n",
    "# add the remaining examples\n",
    "# minibatches.append((X[i:], labels[i:]))\n",
    "\n",
    "print(len(minibatches))\n"
   ]
  },
  {
   "cell_type": "code",
   "execution_count": 40,
   "metadata": {
    "scrolled": true
   },
   "outputs": [
    {
     "name": "stdout",
     "output_type": "stream",
     "text": [
      "            logistic classifier : \t  6416 train docs (     0 positive)      0 test docs (     0 positive) accuracy: 0.980 in 3311.77s (    1 docs/s)\n",
      "                 svm classifier : \t  6416 train docs (     0 positive)      0 test docs (     0 positive) accuracy: 0.991 in 3311.79s (    1 docs/s)\n",
      "      NB Multinomial classifier : \t  6416 train docs (     0 positive)      0 test docs (     0 positive) accuracy: 0.985 in 3311.81s (    1 docs/s)\n",
      "            logistic classifier : \t  6544 train docs (     0 positive)      0 test docs (     0 positive) accuracy: 0.981 in 3312.35s (    1 docs/s)\n",
      "                 svm classifier : \t  6544 train docs (     0 positive)      0 test docs (     0 positive) accuracy: 0.992 in 3312.37s (    1 docs/s)\n",
      "      NB Multinomial classifier : \t  6544 train docs (     0 positive)      0 test docs (     0 positive) accuracy: 0.985 in 3312.39s (    1 docs/s)\n",
      "            logistic classifier : \t  6672 train docs (     0 positive)      0 test docs (     0 positive) accuracy: 0.981 in 3313.11s (    2 docs/s)\n",
      "                 svm classifier : \t  6672 train docs (     0 positive)      0 test docs (     0 positive) accuracy: 0.992 in 3313.12s (    2 docs/s)\n",
      "      NB Multinomial classifier : \t  6672 train docs (     0 positive)      0 test docs (     0 positive) accuracy: 0.986 in 3313.16s (    2 docs/s)\n",
      "            logistic classifier : \t  6800 train docs (     0 positive)      0 test docs (     0 positive) accuracy: 0.980 in 3314.03s (    2 docs/s)\n",
      "                 svm classifier : \t  6800 train docs (     0 positive)      0 test docs (     0 positive) accuracy: 0.991 in 3314.05s (    2 docs/s)\n",
      "      NB Multinomial classifier : \t  6800 train docs (     0 positive)      0 test docs (     0 positive) accuracy: 0.984 in 3314.08s (    2 docs/s)\n",
      "            logistic classifier : \t  6928 train docs (     0 positive)      0 test docs (     0 positive) accuracy: 0.978 in 3314.61s (    2 docs/s)\n",
      "                 svm classifier : \t  6928 train docs (     0 positive)      0 test docs (     0 positive) accuracy: 0.992 in 3314.62s (    2 docs/s)\n",
      "      NB Multinomial classifier : \t  6928 train docs (     0 positive)      0 test docs (     0 positive) accuracy: 0.984 in 3314.65s (    2 docs/s)\n",
      "            logistic classifier : \t  7056 train docs (     0 positive)      0 test docs (     0 positive) accuracy: 0.970 in 3315.18s (    2 docs/s)\n",
      "                 svm classifier : \t  7056 train docs (     0 positive)      0 test docs (     0 positive) accuracy: 0.989 in 3315.19s (    2 docs/s)\n",
      "      NB Multinomial classifier : \t  7056 train docs (     0 positive)      0 test docs (     0 positive) accuracy: 0.984 in 3315.22s (    2 docs/s)\n",
      "            logistic classifier : \t  7184 train docs (     0 positive)      0 test docs (     0 positive) accuracy: 0.968 in 3315.92s (    2 docs/s)\n",
      "                 svm classifier : \t  7184 train docs (     0 positive)      0 test docs (     0 positive) accuracy: 0.987 in 3315.95s (    2 docs/s)\n",
      "      NB Multinomial classifier : \t  7184 train docs (     0 positive)      0 test docs (     0 positive) accuracy: 0.984 in 3315.99s (    2 docs/s)\n",
      "            logistic classifier : \t  7312 train docs (     0 positive)      0 test docs (     0 positive) accuracy: 0.967 in 3316.76s (    2 docs/s)\n",
      "                 svm classifier : \t  7312 train docs (     0 positive)      0 test docs (     0 positive) accuracy: 0.987 in 3316.79s (    2 docs/s)\n",
      "      NB Multinomial classifier : \t  7312 train docs (     0 positive)      0 test docs (     0 positive) accuracy: 0.985 in 3316.82s (    2 docs/s)\n",
      "            logistic classifier : \t  7440 train docs (     0 positive)      0 test docs (     0 positive) accuracy: 0.972 in 3317.29s (    2 docs/s)\n",
      "                 svm classifier : \t  7440 train docs (     0 positive)      0 test docs (     0 positive) accuracy: 0.989 in 3317.31s (    2 docs/s)\n",
      "      NB Multinomial classifier : \t  7440 train docs (     0 positive)      0 test docs (     0 positive) accuracy: 0.986 in 3317.33s (    2 docs/s)\n",
      "            logistic classifier : \t  7568 train docs (     0 positive)      0 test docs (     0 positive) accuracy: 0.977 in 3317.82s (    2 docs/s)\n",
      "                 svm classifier : \t  7568 train docs (     0 positive)      0 test docs (     0 positive) accuracy: 0.989 in 3317.84s (    2 docs/s)\n",
      "      NB Multinomial classifier : \t  7568 train docs (     0 positive)      0 test docs (     0 positive) accuracy: 0.985 in 3317.85s (    2 docs/s)\n",
      "            logistic classifier : \t  7696 train docs (     0 positive)      0 test docs (     0 positive) accuracy: 0.976 in 3318.29s (    2 docs/s)\n",
      "                 svm classifier : \t  7696 train docs (     0 positive)      0 test docs (     0 positive) accuracy: 0.991 in 3318.31s (    2 docs/s)\n",
      "      NB Multinomial classifier : \t  7696 train docs (     0 positive)      0 test docs (     0 positive) accuracy: 0.985 in 3318.32s (    2 docs/s)\n",
      "            logistic classifier : \t  7824 train docs (     0 positive)      0 test docs (     0 positive) accuracy: 0.975 in 3318.78s (    2 docs/s)\n",
      "                 svm classifier : \t  7824 train docs (     0 positive)      0 test docs (     0 positive) accuracy: 0.991 in 3318.79s (    2 docs/s)\n",
      "      NB Multinomial classifier : \t  7824 train docs (     0 positive)      0 test docs (     0 positive) accuracy: 0.985 in 3318.81s (    2 docs/s)\n",
      "            logistic classifier : \t  7952 train docs (     0 positive)      0 test docs (     0 positive) accuracy: 0.979 in 3319.30s (    2 docs/s)\n",
      "                 svm classifier : \t  7952 train docs (     0 positive)      0 test docs (     0 positive) accuracy: 0.991 in 3319.31s (    2 docs/s)\n",
      "      NB Multinomial classifier : \t  7952 train docs (     0 positive)      0 test docs (     0 positive) accuracy: 0.985 in 3319.33s (    2 docs/s)\n",
      "            logistic classifier : \t  8080 train docs (     0 positive)      0 test docs (     0 positive) accuracy: 0.980 in 3319.76s (    2 docs/s)\n",
      "                 svm classifier : \t  8080 train docs (     0 positive)      0 test docs (     0 positive) accuracy: 0.992 in 3319.77s (    2 docs/s)\n",
      "      NB Multinomial classifier : \t  8080 train docs (     0 positive)      0 test docs (     0 positive) accuracy: 0.985 in 3319.79s (    2 docs/s)\n",
      "            logistic classifier : \t  8208 train docs (     0 positive)      0 test docs (     0 positive) accuracy: 0.979 in 3320.21s (    2 docs/s)\n",
      "                 svm classifier : \t  8208 train docs (     0 positive)      0 test docs (     0 positive) accuracy: 0.992 in 3320.23s (    2 docs/s)\n",
      "      NB Multinomial classifier : \t  8208 train docs (     0 positive)      0 test docs (     0 positive) accuracy: 0.985 in 3320.24s (    2 docs/s)\n",
      "            logistic classifier : \t  8336 train docs (     0 positive)      0 test docs (     0 positive) accuracy: 0.981 in 3320.68s (    2 docs/s)\n",
      "                 svm classifier : \t  8336 train docs (     0 positive)      0 test docs (     0 positive) accuracy: 0.992 in 3320.69s (    2 docs/s)\n",
      "      NB Multinomial classifier : \t  8336 train docs (     0 positive)      0 test docs (     0 positive) accuracy: 0.985 in 3320.71s (    2 docs/s)\n",
      "            logistic classifier : \t  8464 train docs (     0 positive)      0 test docs (     0 positive) accuracy: 0.980 in 3321.16s (    2 docs/s)\n",
      "                 svm classifier : \t  8464 train docs (     0 positive)      0 test docs (     0 positive) accuracy: 0.992 in 3321.17s (    2 docs/s)\n",
      "      NB Multinomial classifier : \t  8464 train docs (     0 positive)      0 test docs (     0 positive) accuracy: 0.986 in 3321.19s (    2 docs/s)\n",
      "CPU times: user 29.5 s, sys: 1.83 s, total: 31.3 s\n",
      "Wall time: 9.71 s\n"
     ]
    }
   ],
   "source": [
    "%%time\n",
    "\n",
    "\n",
    "all_classes = unique_labels\n",
    "\n",
    "\n",
    "# Main loop : iterate on mini-batchs of examples\n",
    "# for i, (X_train_text, y_train) in enumerate(minibatch_iterators):\n",
    "\n",
    "def train_one_epoch(record_iter=128):\n",
    "    for i, (X_batch, y_train) in enumerate(minibatches):\n",
    "\n",
    "        tick = time.time()\n",
    "    #     X_train = vectorizer.transform(X_train_text)\n",
    "    #     total_vect_time += time.time() - tick\n",
    "\n",
    "        for cls_name, cls in partial_fit_classifiers.items():\n",
    "            tick = time.time()\n",
    "            # update estimator with examples in the current mini-batch\n",
    "            cls.partial_fit(X_batch, y_train, classes=all_classes)\n",
    "\n",
    "            cls_stats[cls_name]['n_train'] += X_batch.shape[0]\n",
    "\n",
    "            if i*minibatch_size % record_iter == 0: # accumulate test accuracy stats\n",
    "                print(progress(cls_name, cls_stats[cls_name]))\n",
    "                \n",
    "#                 tick = time.time()\n",
    "#                 cls_stats[cls_name]['accuracy'] = cls.score(X_test, y_test)\n",
    "                cls_stats[cls_name]['accuracy'] = cls.score(X, y)\n",
    "                acc_history = (cls_stats[cls_name]['accuracy'],\n",
    "                               cls_stats[cls_name]['n_train'])\n",
    "                cls_stats[cls_name]['accuracy_history'].append(acc_history)\n",
    "            #         run_history = (cls_stats[cls_name]['accuracy'],\n",
    "            #                        total_vect_time + cls_stats[cls_name]['total_fit_time'])\n",
    "\n",
    "                run_history = (cls_stats[cls_name]['accuracy'],)\n",
    "                cls_stats[cls_name]['runtime_history'].append(run_history)\n",
    "\n",
    "#         if i % 3 == 0:\n",
    "#             print('\\n')\n",
    "\n",
    "epochs = 1\n",
    "for j in range(epochs):\n",
    "    train_one_epoch()"
   ]
  },
  {
   "cell_type": "code",
   "execution_count": 41,
   "metadata": {},
   "outputs": [
    {
     "data": {
      "image/png": "[encoded data removed]",
      "text/plain": [
       "<Figure size 432x288 with 1 Axes>"
      ]
     },
     "metadata": {
      "needs_background": "light"
     },
     "output_type": "display_data"
    }
   ],
   "source": [
    "import matplotlib.pyplot as plt\n",
    "from matplotlib import rcParams\n",
    "\n",
    "# plot number of docs labelled against model accuracy\n",
    "\n",
    "\n",
    "rcParams['legend.fontsize'] = 10\n",
    "\n",
    "###############################################################################\n",
    "# Plot results\n",
    "###############################################################################\n",
    "\n",
    "\n",
    "def plot_accuracy(x, y, x_legend):\n",
    "    \"\"\"Plot accuracy as a function of x.\"\"\"\n",
    "    x = np.array(x)\n",
    "    y = np.array(y)\n",
    "    plt.title('Classification accuracy as a function of %s' % x_legend)\n",
    "    plt.xlabel('%s' % x_legend)\n",
    "    plt.ylabel('Accuracy')\n",
    "    plt.grid(True)\n",
    "    plt.plot(x, y)\n",
    "\n",
    "rcParams['legend.fontsize'] = 10\n",
    "\n",
    "def plot_stats(cls_stats):\n",
    "    cls_names = list(sorted(cls_stats.keys()))\n",
    "\n",
    "    # Plot accuracy evolution\n",
    "    plt.figure()\n",
    "    for _, stats in sorted(cls_stats.items()):\n",
    "        # Plot accuracy evolution with #examples\n",
    "        accuracy, n_examples = zip(*stats['accuracy_history'])\n",
    "        plot_accuracy(n_examples, accuracy, \"training examples (#)\")\n",
    "        ax = plt.gca()\n",
    "    #     ax.set_ylim((0.8, 1))\n",
    "    plt.legend(cls_names, loc='best')\n",
    "\n",
    "plot_stats(cls_stats)"
   ]
  },
  {
   "cell_type": "code",
   "execution_count": 43,
   "metadata": {},
   "outputs": [
    {
     "name": "stdout",
     "output_type": "stream",
     "text": [
      "logistic\n",
      "number of confident predictions: 1794\n"
     ]
    },
    {
     "data": {
      "image/png": "[encoded data removed]",
      "text/plain": [
       "<Figure size 432x288 with 1 Axes>"
      ]
     },
     "metadata": {
      "needs_background": "light"
     },
     "output_type": "display_data"
    },
    {
     "name": "stdout",
     "output_type": "stream",
     "text": [
      "NB Multinomial\n",
      "number of confident predictions: 2116\n"
     ]
    },
    {
     "data": {
      "image/png": "[encoded data removed]",
      "text/plain": [
       "<Figure size 432x288 with 1 Axes>"
      ]
     },
     "metadata": {
      "needs_background": "light"
     },
     "output_type": "display_data"
    }
   ],
   "source": [
    "# is the model confident? histogram of confidence scores\n",
    "\n",
    "for k,model in partial_fit_classifiers.items():\n",
    "    if k != 'svm': # SVM doesn't support predict_proba\n",
    "        print(k)\n",
    "        conf_scores = model.predict_proba(X)\n",
    "#         print(conf_scores.shape)\n",
    "        pred_scores = conf_scores.max(axis=1)\n",
    "#         print(conf_scores)\n",
    "#         print(pred_scores)\n",
    "        print(f'number of confident predictions: {(pred_scores > 0.5).sum()}')\n",
    "        plt.hist(pred_scores)\n",
    "        plt.show()\n",
    "\n",
    "# partial_fit_classifiers = {\n",
    "#     'logistic': SGDClassifier('log'),\n",
    "#     'svm': SGDClassifier('hinge'),\n",
    "# #     'Perceptron': Perceptron(),\n",
    "#     'NB Multinomial': MultinomialNB(alpha=0.01),\n",
    "# #     'Passive-Aggressive': PassiveAggressiveClassifier(),\n",
    "# }"
   ]
  },
  {
   "cell_type": "code",
   "execution_count": null,
   "metadata": {},
   "outputs": [],
   "source": [
    "# labelled topic model\n",
    "\n",
    "\n"
   ]
  },
  {
   "cell_type": "code",
   "execution_count": 24,
   "metadata": {
    "scrolled": true
   },
   "outputs": [],
   "source": [
    "stats = cls_stats['NB Multinomial']\n",
    "accuracy, n_examples = zip(*stats['accuracy_history'])\n"
   ]
  },
  {
   "cell_type": "code",
   "execution_count": 25,
   "metadata": {},
   "outputs": [
    {
     "ename": "NameError",
     "evalue": "name 'active_learner_stats' is not defined",
     "output_type": "error",
     "traceback": [
      "\u001b[0;31m---------------------------------------------------------------------------\u001b[0m",
      "\u001b[0;31mNameError\u001b[0m                                 Traceback (most recent call last)",
      "\u001b[0;32m/tmp/ipykernel_13272/2937607470.py\u001b[0m in \u001b[0;36m<module>\u001b[0;34m\u001b[0m\n\u001b[1;32m      1\u001b[0m \u001b[0mol_stats\u001b[0m \u001b[0;34m=\u001b[0m \u001b[0mpd\u001b[0m\u001b[0;34m.\u001b[0m\u001b[0mDataFrame\u001b[0m\u001b[0;34m(\u001b[0m\u001b[0mcls_stats\u001b[0m\u001b[0;34m[\u001b[0m\u001b[0;34m'NB Multinomial'\u001b[0m\u001b[0;34m]\u001b[0m\u001b[0;34m[\u001b[0m\u001b[0;34m'accuracy_history'\u001b[0m\u001b[0;34m]\u001b[0m\u001b[0;34m,\u001b[0m \u001b[0mcolumns\u001b[0m\u001b[0;34m=\u001b[0m\u001b[0;34m[\u001b[0m\u001b[0;34m'accuracy'\u001b[0m\u001b[0;34m,\u001b[0m\u001b[0;34m'train_iter'\u001b[0m\u001b[0;34m]\u001b[0m\u001b[0;34m)\u001b[0m\u001b[0;34m\u001b[0m\u001b[0;34m\u001b[0m\u001b[0m\n\u001b[0;32m----> 2\u001b[0;31m \u001b[0mal_stats\u001b[0m \u001b[0;34m=\u001b[0m \u001b[0mpd\u001b[0m\u001b[0;34m.\u001b[0m\u001b[0mDataFrame\u001b[0m\u001b[0;34m(\u001b[0m\u001b[0mactive_learner_stats\u001b[0m\u001b[0;34m[\u001b[0m\u001b[0;34m'naive_bayes'\u001b[0m\u001b[0;34m]\u001b[0m\u001b[0;34m[\u001b[0m\u001b[0;34m'accuracy_history'\u001b[0m\u001b[0;34m]\u001b[0m\u001b[0;34m,\u001b[0m \u001b[0mcolumns\u001b[0m\u001b[0;34m=\u001b[0m\u001b[0;34m[\u001b[0m\u001b[0;34m'accuracy'\u001b[0m\u001b[0;34m,\u001b[0m\u001b[0;34m'train_iter'\u001b[0m\u001b[0;34m]\u001b[0m\u001b[0;34m)\u001b[0m\u001b[0;34m\u001b[0m\u001b[0;34m\u001b[0m\u001b[0m\n\u001b[0m\u001b[1;32m      3\u001b[0m \u001b[0;34m\u001b[0m\u001b[0m\n\u001b[1;32m      4\u001b[0m \u001b[0;34m\u001b[0m\u001b[0m\n\u001b[1;32m      5\u001b[0m \u001b[0mmerged\u001b[0m \u001b[0;34m=\u001b[0m \u001b[0mol_stats\u001b[0m\u001b[0;34m.\u001b[0m\u001b[0mmerge\u001b[0m\u001b[0;34m(\u001b[0m\u001b[0mal_stats\u001b[0m\u001b[0;34m,\u001b[0m \u001b[0mon\u001b[0m\u001b[0;34m=\u001b[0m\u001b[0;34m'train_iter'\u001b[0m\u001b[0;34m,\u001b[0m \u001b[0mhow\u001b[0m\u001b[0;34m=\u001b[0m\u001b[0;34m'outer'\u001b[0m\u001b[0;34m)\u001b[0m\u001b[0;34m\u001b[0m\u001b[0;34m\u001b[0m\u001b[0m\n",
      "\u001b[0;31mNameError\u001b[0m: name 'active_learner_stats' is not defined"
     ]
    }
   ],
   "source": [
    "ol_stats = pd.DataFrame(cls_stats['NB Multinomial']['accuracy_history'], columns=['accuracy','train_iter'])\n",
    "al_stats = pd.DataFrame(active_learner_stats['naive_bayes']['accuracy_history'], columns=['accuracy','train_iter'])\n",
    "\n",
    "\n",
    "merged = ol_stats.merge(al_stats, on='train_iter', how='outer')\n",
    "ax = merged.plot(x='train_iter',y=['accuracy_x','accuracy_y'])\n",
    "ax.set_xlim(0,3000)"
   ]
  },
  {
   "cell_type": "code",
   "execution_count": null,
   "metadata": {},
   "outputs": [],
   "source": [
    "y = np.array(y)\n"
   ]
  },
  {
   "cell_type": "code",
   "execution_count": null,
   "metadata": {
    "scrolled": true
   },
   "outputs": [],
   "source": [
    "%%time\n",
    "\n",
    "# active learning\n",
    "\n",
    "from modAL.models import ActiveLearner\n",
    "from sklearn.ensemble import RandomForestClassifier\n",
    "\n",
    "# initializing the learner\n",
    "# learner = ActiveLearner(\n",
    "#     estimator=MultinomialNB(alpha=0.01),\n",
    "#     X_training=minibatch[0][0], y_training=minibatch[0][1]\n",
    "# )\n",
    "active_learners = {\n",
    "    'naive_bayes': ActiveLearner(\n",
    "    estimator=MultinomialNB(alpha=0.01),\n",
    "    X_training=minibatches[0][0], y_training=minibatches[0][1]\n",
    ")\n",
    "}\n",
    "\n",
    "active_learner_stats = {}\n",
    "\n",
    "for cls_name in active_learners:\n",
    "    stats = {'n_train': 0, 'n_train_pos': 0,\n",
    "             'accuracy': 0.0, 'accuracy_history': [(0, 0)], 't0': time.time()}\n",
    "    active_learner_stats[cls_name] = stats\n",
    "\n",
    "record_iter = 64\n",
    "batch_size = 64\n",
    "\n",
    "for i in range(X.shape[0]//batch_size):\n",
    "    for cls_name, learner in active_learners.items():\n",
    "        \n",
    "        query_idx, query_inst = learner.query(X, batch_size)\n",
    "#         query_idx = query_idx[0]\n",
    "#         print(query_idx)\n",
    "#         print(y[query_idx])\n",
    "\n",
    "#         learner.teach([X[query_idx]], [y[query_idx]])\n",
    "        learner.teach(query_inst, y[query_idx])\n",
    "        \n",
    "        active_learner_stats[cls_name]['n_train'] += batch_size\n",
    "\n",
    "        if i*batch_size % record_iter == 0: # accumulate test accuracy stats\n",
    "\n",
    "            cls = learner\n",
    "\n",
    "#                 tick = time.time()\n",
    "            active_learner_stats[cls_name]['accuracy'] = cls.score(X_test, y_test)\n",
    "#                 active_learner_stats[cls_name]['accuracy'] = cls.score(X, y)\n",
    "            acc_history = (active_learner_stats[cls_name]['accuracy'],\n",
    "                           active_learner_stats[cls_name]['n_train'])\n",
    "            active_learner_stats[cls_name]['accuracy_history'].append(acc_history)\n",
    "        #         run_history = (active_learner_stats[cls_name]['accuracy'],\n",
    "        #                        total_vect_time + active_learner_stats[cls_name]['total_fit_time'])\n",
    "\n",
    "#             run_history = (active_learner_stats[cls_name]['accuracy'],)\n",
    "#             active_learner_stats[cls_name]['runtime_history'].append(run_history)\n",
    "            \n",
    "            print(progress(cls_name, active_learner_stats[cls_name]))\n"
   ]
  },
  {
   "cell_type": "code",
   "execution_count": null,
   "metadata": {},
   "outputs": [],
   "source": [
    "# rcParams['legend.fontsize'] = 10\n",
    "cls_names = list(sorted(active_learner_stats.keys()))\n",
    "\n",
    "# Plot accuracy evolution\n",
    "plt.figure()\n",
    "for _, stats in sorted(active_learner_stats.items()):\n",
    "    # Plot accuracy evolution with #examples\n",
    "    accuracy, n_examples = zip(*stats['accuracy_history'])\n",
    "    plot_accuracy(n_examples, accuracy, \"training examples (#)\")\n",
    "    ax = plt.gca()\n",
    "#     ax.set_ylim((0.8, 1))\n",
    "plt.legend(cls_names, loc='best')"
   ]
  },
  {
   "cell_type": "code",
   "execution_count": null,
   "metadata": {},
   "outputs": [],
   "source": [
    "active_learner_stats"
   ]
  },
  {
   "cell_type": "code",
   "execution_count": null,
   "metadata": {},
   "outputs": [],
   "source": [
    "# dir(learner.query)\n",
    "learner.query.__code__.co_varnames"
   ]
  },
  {
   "cell_type": "code",
   "execution_count": null,
   "metadata": {},
   "outputs": [],
   "source": [
    "ma = price.rolling(20).mean()\n",
    "\n",
    "mstd = price.rolling(20).std()"
   ]
  },
  {
   "cell_type": "code",
   "execution_count": null,
   "metadata": {
    "scrolled": true
   },
   "outputs": [],
   "source": [
    "# what are the features?\n",
    "\n",
    "# inspect model\n",
    "class_labels = classifier.classes_\n",
    "\n",
    "# Extract the features: feature_names\n",
    "feature_names = tfidf_lim.get_feature_names()\n",
    "\n",
    "# Zip the feature names together with the coefficient array \n",
    "# and sort by weights: feat_with_weights\n",
    "# feat_with_weights = sorted(zip(classifier.coef_[0], feature_names), reverse=True)\n",
    "# display(feat_with_weights[:10])\n",
    "# display(feat_with_weights[-10:])\n",
    "\n",
    "# Print the first class label and the top 20 feat_with_weights entries\n",
    "for i in range(10):\n",
    "    label = class_labels[i]\n",
    "    print(label, precision_scores[label])\n",
    "    \n",
    "    feat_with_weights = sorted(zip(classifier.coef_[i], feature_names), reverse=True)\n",
    "    display(feat_with_weights[:10])\n",
    "    display(feat_with_weights[-10:])\n",
    "    \n",
    "# # Print the second class label and the bottom 20 feat_with_weights entries\n",
    "# print(class_labels[1], feat_with_weights[-20:])"
   ]
  },
  {
   "cell_type": "code",
   "execution_count": null,
   "metadata": {},
   "outputs": [],
   "source": [
    "print(X_train.shape, len(y_train))"
   ]
  },
  {
   "cell_type": "code",
   "execution_count": null,
   "metadata": {},
   "outputs": [],
   "source": []
  },
  {
   "cell_type": "code",
   "execution_count": null,
   "metadata": {},
   "outputs": [],
   "source": [
    "# reverse engineer the .feat file\n",
    "\n",
    "import sklearn\n",
    "\n",
    "features_path = \"data/synthetic/output/T5/init/synthetic.feat\"\n",
    "\n",
    "X, y = sklearn.datasets.load_svmlight_file(features_path)\n",
    "\n",
    "print(X.shape, y.shape)\n",
    "\n",
    "\n",
    "# cluster quality: purity, etc"
   ]
  },
  {
   "cell_type": "code",
   "execution_count": null,
   "metadata": {},
   "outputs": [],
   "source": [
    "# X.toarray()\n",
    "y"
   ]
  },
  {
   "cell_type": "code",
   "execution_count": null,
   "metadata": {},
   "outputs": [],
   "source": [
    "!ls data"
   ]
  },
  {
   "cell_type": "code",
   "execution_count": null,
   "metadata": {},
   "outputs": [],
   "source": []
  },
  {
   "cell_type": "code",
   "execution_count": null,
   "metadata": {},
   "outputs": [],
   "source": []
  },
  {
   "cell_type": "code",
   "execution_count": null,
   "metadata": {},
   "outputs": [],
   "source": []
  }
 ],
 "metadata": {
  "kernelspec": {
   "display_name": "Python [conda env:nlp]",
   "language": "python",
   "name": "conda-env-nlp-py"
  },
  "language_info": {
   "codemirror_mode": {
    "name": "ipython",
    "version": 3
   },
   "file_extension": ".py",
   "mimetype": "text/x-python",
   "name": "python",
   "nbconvert_exporter": "python",
   "pygments_lexer": "ipython3",
   "version": "3.8.12"
  }
 },
 "nbformat": 4,
 "nbformat_minor": 4
}
